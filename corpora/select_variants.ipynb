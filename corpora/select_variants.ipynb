{
 "cells": [
  {
   "cell_type": "code",
   "execution_count": null,
   "id": "initial_id",
   "metadata": {
    "collapsed": true
   },
   "outputs": [],
   "source": [
    "import pandas as pd\n",
    "from pathlib import Path\n",
    "import random\n",
    "import polars as pl"
   ]
  },
  {
   "cell_type": "code",
   "execution_count": null,
   "outputs": [],
   "source": [
    "phenotype_annotation = \"/path/to/phenotype.hpoa\"\n",
    "disease_pg = \"/path/to/disease.pg\"\n",
    "clinvar_vcf_file_path = \"/path/to/clinvar_20240127_hg19.vcf\"\n",
    "gnomad_vcf_file_path = \"/path/to/gnomad.exomes.r2.1.1.sites.trimmed.vcf\""
   ],
   "metadata": {
    "collapsed": false
   },
   "id": "372db8573786bfa"
  },
  {
   "cell_type": "code",
   "execution_count": null,
   "outputs": [],
   "source": [
    "class GetCompatibleOMIMDiseases:\n",
    "    def __init__(self, phenotype_annotation: Path, disease_pg: Path):\n",
    "        self.phenotype_annotation = phenotype_annotation\n",
    "        self.disease_pg = disease_pg\n",
    "        \n",
    "    def read_phenotype_annotation(self):\n",
    "        return pd.read_csv(self.phenotype_annotation, sep=\"\\t\", comment=\"#\", low_memory=False)\n",
    "    \n",
    "    @staticmethod\n",
    "    def get_compatible_omim_ids_from_phenotype_annotation(phenotype_annotation_df):\n",
    "        phenotypes = phenotype_annotation_df[phenotype_annotation_df[\"aspect\"] == \"P\"]\n",
    "        omim_filtered = phenotypes[phenotypes[\"database_id\"].str.contains(\"OMIM\")]\n",
    "        omim_filtered = omim_filtered[omim_filtered.groupby('database_id')['database_id'].transform('count') >= 10]\n",
    "        return list(omim_filtered[\"database_id\"].unique())\n",
    "    \n",
    "    def compatible_omim_ids_phenotype_annotation(self):\n",
    "        return self.get_compatible_omim_ids_from_phenotype_annotation(self.read_phenotype_annotation())\n",
    "    \n",
    "    def read_disease_pg(self):\n",
    "        disease = pl.read_csv(self.disease_pg,separator=\"|\",new_columns=[\"database_id\",\"gene_mim_number\",\"disease_name\",\"entrez_id\",\"diagnosis_status\",\"inheritance\",],has_header=False,)\n",
    "        return disease.filter(pl.col(\"database_id\").str.starts_with(\"OMIM\"))\n",
    "    \n",
    "    @staticmethod\n",
    "    def get_compatible_omim_ids_from_disease_pg(disease_pg_df):\n",
    "        filtered = disease_pg_df.filter((pl.col(\"inheritance\") == \"R\") | (pl.col(\"inheritance\") == \"D\")| (pl.col(\"inheritance\") == \"XD\")| (pl.col(\"inheritance\") == \"XR\")| (pl.col(\"inheritance\") == \"B\"))\n",
    "        return list(filtered[\"database_id\"].unique())\n",
    "    \n",
    "    def compatible_omim_ids_disease_pg(self):\n",
    "        return self.get_compatible_omim_ids_from_disease_pg(self.read_disease_pg())\n",
    "    \n",
    "    def get_compatible_omim_diseases(self):\n",
    "        hpoa_omim = self.compatible_omim_ids_phenotype_annotation()\n",
    "        disease_pg_omim = self.compatible_omim_ids_disease_pg()\n",
    "        return list(set(hpoa_omim).intersection(disease_pg_omim))\n",
    "    \n",
    "    def get_compatible_omim_disease_dict(self):\n",
    "        disease_df = pl.read_csv(self.disease_pg,separator=\"|\",new_columns=[\"database_id\",\"gene_mim_number\",\"disease_name\",\"entrez_id\",\"diagnosis_status\",\"inheritance\",],has_header=False,)\n",
    "\n",
    "        hpoa_omim = self.compatible_omim_ids_phenotype_annotation()\n",
    "        disease_pg_omim = self.compatible_omim_ids_disease_pg()\n",
    "        diseases = list(set(hpoa_omim).intersection(disease_pg_omim))\n",
    "        diseases_dict = {}\n",
    "        for disease in diseases:\n",
    "            pg = disease_df.filter(pl.col(\"database_id\") == disease)\n",
    "            for row in pg.rows(named=True):\n",
    "                diseases_dict.setdefault(disease, []).append(row[\"entrez_id\"])\n",
    "#                 diseases_dict.update({disease : row[\"entrez_id\"]})\n",
    "        return diseases_dict\n",
    "    "
   ],
   "metadata": {
    "collapsed": false
   },
   "id": "b2b1d7c829c754b4"
  },
  {
   "cell_type": "code",
   "execution_count": null,
   "outputs": [],
   "source": [
    "compatible_omim = GetCompatibleOMIMDiseases(phenotype_annotation, disease_pg).get_compatible_omim_diseases()"
   ],
   "metadata": {
    "collapsed": false
   },
   "id": "fc8208766ebd8ed"
  },
  {
   "cell_type": "code",
   "execution_count": null,
   "outputs": [],
   "source": [
    "class VariantSelector:\n",
    "    def __init__(self, clinvar_vcf: Path, compatible_omim_ids: [str]):\n",
    "        self.clinvar_vcf = clinvar_vcf\n",
    "        self.compatible_omim_ids = compatible_omim_ids\n",
    "        self.chromosomes = [str(x) for x in list(range(1,23))]\n",
    "    \n",
    "    @staticmethod\n",
    "    def get_chrom_field(vcf_fields: [str]):\n",
    "        return vcf_fields[0]\n",
    "    \n",
    "    @staticmethod\n",
    "    def get_pos_field(vcf_fields: [str]):\n",
    "        return int(vcf_fields[1])\n",
    "        \n",
    "    @staticmethod\n",
    "    def get_ref_field(vcf_fields: [str]):\n",
    "        return vcf_fields[3]\n",
    "    \n",
    "    @staticmethod\n",
    "    def get_alt_field(vcf_fields: [str]):\n",
    "        return vcf_fields[4]\n",
    "  \n",
    "    @staticmethod\n",
    "    def get_info_field(vcf_fields: [str]):\n",
    "        return vcf_fields[7]\n",
    "    \n",
    "    def select_all_variants(self):\n",
    "        selected_variants = []\n",
    "        with open(self.clinvar_vcf, 'r') as vcf_file:\n",
    "            for line in vcf_file:\n",
    "                if line.startswith('#'):  \n",
    "                    continue\n",
    "                fields = line.strip().split('\\t')\n",
    "                try:\n",
    "                    if self.get_chrom_field(fields) in self.chromosomes:\n",
    "                        selected_variants.append({\"CHROM\": self.get_chrom_field(fields), \"POS\": self.get_pos_field(fields), \"REF\": self.get_ref_field(fields), \"ALT\": self.get_alt_field(fields)})\n",
    "                except IndexError:\n",
    "                    pass\n",
    "        vcf_file.close()\n",
    "        return pd.DataFrame(selected_variants)\n",
    "    \n",
    "    def select_all_pathogenic_variants(self):\n",
    "        selected_variants = []\n",
    "        with open(self.clinvar_vcf, 'r') as vcf_file:\n",
    "            for line in vcf_file:\n",
    "                if line.startswith('#'):  \n",
    "                    continue\n",
    "                fields = line.strip().split('\\t')\n",
    "                if 'CLNSIG=Pathogenic;' in self.get_info_field(fields) or 'CLNSIG=Likely_pathogenic;' in self.get_info_field(fields):\n",
    "                    if self.get_chrom_field(fields) in self.chromosomes:\n",
    "                        clndisdb_field = next(item for item in self.get_info_field(fields).split(';') if item.startswith('CLNDISDB='))\n",
    "                        omim_id = next((id for id in clndisdb_field.split(',') if 'OMIM:' in id), None)\n",
    "                        if omim_id and  omim_id in self.compatible_omim_ids:\n",
    "                            try:\n",
    "                                gene = [item for item in self.get_info_field(fields).split(';') if item.startswith('GENEINFO=')][0].replace(\"GENEINFO=\", \"\").split(':')[0]\n",
    "                                selected_variants.append({\"CHROM\": self.get_chrom_field(fields), \"POS\": self.get_pos_field(fields), \"REF\": self.get_ref_field(fields), \"ALT\": self.get_alt_field(fields), \"OMIM_ID\": omim_id, \"PATHOGENICTY\": \"Pathogenic\", \"GENE\": gene})\n",
    "                            except IndexError:\n",
    "                                pass\n",
    "\n",
    "        vcf_file.close()\n",
    "        return pd.DataFrame(selected_variants)\n",
    "    "
   ],
   "metadata": {
    "collapsed": false
   },
   "id": "fc9f1c73510ab7af"
  },
  {
   "cell_type": "code",
   "execution_count": null,
   "outputs": [],
   "source": [
    "variant_selector = VariantSelector(clinvar_vcf_file_path, compatible_omim)\n",
    "pathogenic = variant_selector.select_all_pathogenic_variants()\n",
    "all_clinvar_variants = variant_selector.select_all_variants()"
   ],
   "metadata": {
    "collapsed": false
   },
   "id": "34ee39e683d87414"
  },
  {
   "cell_type": "code",
   "execution_count": null,
   "outputs": [],
   "source": [
    "class GnomADVariantSelector:\n",
    "    def __init__(self, gnomad_vcf: Path, compatible_omim:[str]):\n",
    "        self.gnomad_vcf = gnomad_vcf\n",
    "        self.compatible_omim = compatible_omim\n",
    "        self.chromosomes = [str(x) for x in list(range(1,23))]\n",
    "    \n",
    "    @staticmethod\n",
    "    def get_chrom_field(vcf_fields: [str]):\n",
    "        return vcf_fields[0]\n",
    "    \n",
    "    @staticmethod\n",
    "    def get_pos_field(vcf_fields: [str]):\n",
    "        return int(vcf_fields[1])\n",
    "        \n",
    "    @staticmethod\n",
    "    def get_ref_field(vcf_fields: [str]):\n",
    "        return vcf_fields[3]\n",
    "    \n",
    "    @staticmethod\n",
    "    def get_alt_field(vcf_fields: [str]):\n",
    "        return vcf_fields[4]\n",
    "  \n",
    "    @staticmethod\n",
    "    def get_info_field(vcf_fields: [str]):\n",
    "        return vcf_fields[7]\n",
    "    \n",
    "    @staticmethod\n",
    "    def get_filter_field(vcf_fields: [str]):\n",
    "        return vcf_fields[6]\n",
    "    \n",
    "    def select_all_variants(self):\n",
    "        selected_variants = []\n",
    "        with open(self.gnomad_vcf, 'r') as vcf_file:\n",
    "            for line in vcf_file:\n",
    "                if line.startswith('#'):  \n",
    "                    continue\n",
    "                fields = line.strip().split('\\t')\n",
    "                if self.get_chrom_field(fields) in self.chromosomes:\n",
    "                    if self.get_filter_field(fields) == \"PASS\":\n",
    "                        if \"AF=\" in self.get_info_field(fields):\n",
    "                            allele_frequency =float([item for item in self.get_info_field(fields).split(';') if item.startswith('AF=')][0].replace(\"AF=\", \"\"))\n",
    "                            gene =[item for item in self.get_info_field(fields).split(';') if item.startswith('vep=')][0].split(\"|\")[3]\n",
    "                            consequence = [item for item in self.get_info_field(fields).split(';') if item.startswith('vep=')][0].split(\"|\")[1]\n",
    "                            if 0 < allele_frequency < 0.02:\n",
    "                                selected_variants.append({\"CHROM\": self.get_chrom_field(fields), \"POS\": self.get_pos_field(fields), \"REF\": self.get_ref_field(fields), \"ALT\": self.get_alt_field(fields), \"GENE\": gene, \"CONSEQUENCE\": consequence})\n",
    "        vcf_file.close()\n",
    "        return pd.DataFrame(selected_variants)\n",
    "    \n",
    "    def filter_gnomad_variants(self, all_clinvar_variants: pd.DataFrame):\n",
    "        all_gnomad_variants = self.select_all_variants()\n",
    "        all_gnomad_variants[\"DB\"] = \"gnomAD\"\n",
    "        all_clinvar_variants[\"DB\"] = \"clinvar\"\n",
    "        merged_variants = pd.concat([all_clinvar_variants, all_gnomad_variants])\n",
    "        dropped_duplicate_merged_variants = merged_variants.drop_duplicates(subset=[\"CHROM\",\"POS\", \"REF\", \"ALT\"])\n",
    "        filtered_gnomad = dropped_duplicate_merged_variants[dropped_duplicate_merged_variants[\"DB\"] == \"gnomAD\"]\n",
    "        diseases = random.choices(self.compatible_omim, k=len(filtered_gnomad))\n",
    "        gnomad_variants = filtered_gnomad.assign(OMIM_ID=diseases)\n",
    "        gnomad_variants = gnomad_variants.drop([\"DB\"], axis=1)\n",
    "        return gnomad_variants\n",
    "        "
   ],
   "metadata": {
    "collapsed": false
   },
   "id": "ee9f50fc6e07db37"
  },
  {
   "cell_type": "code",
   "execution_count": null,
   "outputs": [],
   "source": [
    "gnomad_variants = GnomADVariantSelector(gnomad_vcf_file_path, compatible_omim).filter_gnomad_variants(all_clinvar_variants)"
   ],
   "metadata": {
    "collapsed": false
   },
   "id": "ffab27078224b0d8"
  },
  {
   "cell_type": "code",
   "execution_count": null,
   "outputs": [],
   "source": [
    "class VariantBalancer:\n",
    "    def __init__(self, pathogenic_variants, gnomad_variants):\n",
    "        self.pathogenic_variants = pathogenic_variants\n",
    "        self.gnomad_variants = gnomad_variants\n",
    "        self.selected_pathogenic_variants = pd.DataFrame(columns=pathogenic_variants.columns)\n",
    "        self.selected_benign_variants = pd.DataFrame(columns=pathogenic_variants.columns)\n",
    "\n",
    "    \n",
    "    def get_unique_genes(self):\n",
    "        return self.pathogenic_variants['GENE'].unique()\n",
    "    \n",
    "    def balance_variants_per_gene(self):\n",
    "        count = 0\n",
    "        for gene in self.get_unique_genes():\n",
    "            count +=1\n",
    "            pathogenic_subset = self.pathogenic_variants[self.pathogenic_variants[\"GENE\"] == gene]\n",
    "            gnomad_subset = self.gnomad_variants[self.gnomad_variants[\"GENE\"] == gene]\n",
    "            min_variants = min([len(pathogenic_subset), len(gnomad_subset)])\n",
    "            pathogenic_selection = pathogenic_subset.sample(n=min_variants, random_state=42)\n",
    "            self.selected_pathogenic_variants = self.selected_pathogenic_variants.append(pathogenic_selection)\n",
    "            gnomad_selection = gnomad_subset.sample(n=min_variants, random_state=42)\n",
    "            self.selected_benign_variants = self.selected_benign_variants.append(gnomad_selection)\n",
    "\n",
    "    def write_balanced_variants(self):\n",
    "        self.balance_variants_per_gene()\n",
    "        self.selected_pathogenic_variants.to_csv(\"pathogenic_training_variants.tsv\", sep=\"\\t\", index=False)\n",
    "        self.selected_benign_variants.to_csv(\"neutral_training_variants.tsv\", sep=\"\\t\", index=False)\n"
   ],
   "metadata": {
    "collapsed": false
   },
   "id": "99aa53269ad64b6e"
  },
  {
   "cell_type": "markdown",
   "source": [],
   "metadata": {
    "collapsed": false
   },
   "id": "e2c177f8b77653da"
  },
  {
   "cell_type": "code",
   "execution_count": null,
   "outputs": [],
   "source": [
    "VariantBalancer(pathogenic, gnomad_variants).write_balanced_variants()"
   ],
   "metadata": {
    "collapsed": false
   },
   "id": "ca990c3bf4921eb9"
  }
 ],
 "metadata": {
  "kernelspec": {
   "display_name": "Python 3",
   "language": "python",
   "name": "python3"
  },
  "language_info": {
   "codemirror_mode": {
    "name": "ipython",
    "version": 2
   },
   "file_extension": ".py",
   "mimetype": "text/x-python",
   "name": "python",
   "nbconvert_exporter": "python",
   "pygments_lexer": "ipython2",
   "version": "2.7.6"
  }
 },
 "nbformat": 4,
 "nbformat_minor": 5
}
