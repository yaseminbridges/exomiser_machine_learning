{
 "cells": [
  {
   "metadata": {},
   "cell_type": "markdown",
   "source": [
    "# Cross Validation\n",
    "\n",
    "This notebook contains the code for running the cross validation on the training data with the optimal set of parameters and features. The application to the validation data is not working code as we are not able to share this data but is there to give an idea of how the workflow works."
   ],
   "id": "b7dce9a854601c5c"
  },
  {
   "metadata": {},
   "cell_type": "code",
   "outputs": [],
   "execution_count": 3,
   "source": [
    "import nbimporter\n",
    "from format_data import FormatMLData\n",
    "import warnings\n",
    "from sklearn.exceptions import ConvergenceWarning\n",
    "from sklearn.model_selection import RepeatedStratifiedKFold\n",
    "from sklearn.linear_model import LogisticRegression\n",
    "from sklearn.metrics import precision_score, recall_score, f1_score, roc_auc_score\n",
    "import numpy as np\n",
    "from xgboost import XGBClassifier\n",
    "from sklearn.ensemble import RandomForestClassifier\n",
    "\n",
    "# Suppress ConvergenceWarning\n",
    "warnings.filterwarnings(\"ignore\", category=ConvergenceWarning)"
   ],
   "id": "initial_id"
  },
  {
   "metadata": {},
   "cell_type": "markdown",
   "source": "## Logistic Regression Cross Validation Analysis",
   "id": "850b0b3ff140a262"
  },
  {
   "metadata": {
    "ExecuteTime": {
     "end_time": "2024-11-19T13:02:50.749206Z",
     "start_time": "2024-11-19T13:02:49.212749Z"
    }
   },
   "cell_type": "code",
   "source": [
    "# Load and preprocess data\n",
    "ml_data = FormatMLData(\"../data/ml_data_subset.tsv\").return_ml_data()\n",
    "final_selected_features_logistic_regression = ['EXOMISER_GENE_PHENO_SCORE', 'EXOMISER_GENE_VARIANT_SCORE', 'WEIGHTED_PS1', 'WEIGHTED_PS2', 'WEIGHTED_PP5', 'WEIGHTED_PM5', 'WEIGHTED_PM4', 'WEIGHTED_PM2']\n",
    "best_params_lr = {'C': 10, 'l1_ratio': 0.9, 'max_iter': 100, 'penalty': 'elasticnet', 'solver': 'saga'}\n",
    "\n",
    "X = ml_data.training_data.select(final_selected_features_logistic_regression).to_pandas().values\n",
    "y = ml_data.training_data.select([\"CAUSATIVE_VARIANT_STATUS\"]).to_pandas().values.ravel()\n",
    "\n",
    "# Define cross-validation and metrics storage\n",
    "cv = RepeatedStratifiedKFold(n_splits=10, n_repeats=10, random_state=42)\n",
    "metrics = {\"auc\": [], \"precision\": [], \"recall\": [], \"f1\": []}\n",
    "models = []\n",
    "\n",
    "# Train and evaluate models\n",
    "for fold, (train_idx, test_idx) in enumerate(cv.split(X, y), start=1):\n",
    "    X_train, X_test = X[train_idx], X[test_idx]\n",
    "    y_train, y_test = y[train_idx], y[test_idx]\n",
    "\n",
    "    model = LogisticRegression(**best_params_lr, random_state=fold)\n",
    "    model.fit(X_train, y_train)\n",
    "    models.append(model)\n",
    "\n",
    "    y_pred_proba = model.predict_proba(X_test)[:, 1]\n",
    "    y_pred = model.predict(X_test)\n",
    "    \n",
    "    # Collect metrics\n",
    "    metrics[\"auc\"].append(roc_auc_score(y_test, y_pred_proba))\n",
    "    metrics[\"precision\"].append(precision_score(y_test, y_pred))\n",
    "    metrics[\"recall\"].append(recall_score(y_test, y_pred))\n",
    "    metrics[\"f1\"].append(f1_score(y_test, y_pred))\n",
    "\n",
    "# Compute mean and standard deviation for each metric\n",
    "results = {metric: (np.mean(scores), np.std(scores)) for metric, scores in metrics.items()}\n",
    "\n",
    "# Print results\n",
    "print(\"\\nEvaluation Metrics (Mean ± Std):\")\n",
    "for metric, (mean, std) in results.items():\n",
    "    print(f\"{metric.capitalize()}: {mean:.4f} ± {std:.4f}\")"
   ],
   "id": "419a44ece26b6391",
   "outputs": [
    {
     "name": "stdout",
     "output_type": "stream",
     "text": [
      "\n",
      "Evaluation Metrics (Mean ± Std):\n",
      "Auc: 0.9988 ± 0.0016\n",
      "Precision: 0.9921 ± 0.0111\n",
      "Recall: 0.9807 ± 0.0171\n",
      "F1: 0.9863 ± 0.0102\n"
     ]
    }
   ],
   "execution_count": 5
  },
  {
   "metadata": {},
   "cell_type": "markdown",
   "source": "## Random Forest Cross Validation Analysis\n",
   "id": "10b2f086a437af9a"
  },
  {
   "metadata": {
    "ExecuteTime": {
     "end_time": "2024-11-19T15:09:42.650473Z",
     "start_time": "2024-11-19T15:09:28.397605Z"
    }
   },
   "cell_type": "code",
   "source": [
    "# Load and preprocess data\n",
    "ml_data = FormatMLData(\"../data/ml_data_subset.tsv\").return_ml_data()\n",
    "final_selected_features_random_forest = ['EXOMISER_GENE_PHENO_SCORE', 'EXOMISER_GENE_VARIANT_SCORE', 'WEIGHTED_PS1', 'WEIGHTED_PS2', 'WEIGHTED_PP5', 'WEIGHTED_PM5', 'WEIGHTED_PM4', 'WEIGHTED_PM2']\n",
    "\n",
    "best_params_rf = {'class_weight': None, 'max_depth': 10, 'max_features': 'sqrt', 'min_samples_leaf': 2, 'min_samples_split': 5, 'n_estimators': 200}\n",
    "\n",
    "X = ml_data.training_data.select(final_selected_features_random_forest).to_pandas().values\n",
    "y = ml_data.training_data.select([\"CAUSATIVE_VARIANT_STATUS\"]).to_pandas().values.ravel()\n",
    "\n",
    "# Define cross-validation and metrics storage\n",
    "cv = RepeatedStratifiedKFold(n_splits=10, n_repeats=10, random_state=42)\n",
    "metrics = {\"auc\": [], \"precision\": [], \"recall\": [], \"f1\": []}\n",
    "models = []\n",
    "\n",
    "# Train and evaluate models\n",
    "for fold, (train_idx, test_idx) in enumerate(cv.split(X, y), start=1):\n",
    "    X_train, X_test = X[train_idx], X[test_idx]\n",
    "    y_train, y_test = y[train_idx], y[test_idx]\n",
    "\n",
    "    model = RandomForestClassifier(**best_params_rf, random_state=fold)\n",
    "    model.fit(X_train, y_train)\n",
    "    models.append(model)\n",
    "\n",
    "    y_pred_proba = model.predict_proba(X_test)[:, 1]\n",
    "    y_pred = model.predict(X_test)\n",
    "    \n",
    "    # Collect metrics\n",
    "    metrics[\"auc\"].append(roc_auc_score(y_test, y_pred_proba))\n",
    "    metrics[\"precision\"].append(precision_score(y_test, y_pred))\n",
    "    metrics[\"recall\"].append(recall_score(y_test, y_pred))\n",
    "    metrics[\"f1\"].append(f1_score(y_test, y_pred))\n",
    "\n",
    "# Compute mean and standard deviation for each metric\n",
    "results = {metric: (np.mean(scores), np.std(scores)) for metric, scores in metrics.items()}\n",
    "\n",
    "# Print results\n",
    "print(\"\\nEvaluation Metrics (Mean ± Std):\")\n",
    "for metric, (mean, std) in results.items():\n",
    "    print(f\"{metric.capitalize()}: {mean:.4f} ± {std:.4f}\")"
   ],
   "id": "b457cee03fec073d",
   "outputs": [
    {
     "name": "stdout",
     "output_type": "stream",
     "text": [
      "\n",
      "Evaluation Metrics (Mean ± Std):\n",
      "Auc: 0.9989 ± 0.0015\n",
      "Precision: 0.9903 ± 0.0121\n",
      "Recall: 0.9847 ± 0.0164\n",
      "F1: 0.9874 ± 0.0106\n"
     ]
    }
   ],
   "execution_count": 9
  },
  {
   "metadata": {
    "ExecuteTime": {
     "end_time": "2024-11-19T15:23:18.435746Z",
     "start_time": "2024-11-19T15:23:03.109250Z"
    }
   },
   "cell_type": "code",
   "source": [
    "\n",
    "# Load and preprocess data\n",
    "ml_data = FormatMLData(\"../data/ml_data_subset.tsv\").return_ml_data()\n",
    "final_selected_features_xgboost = ['EXOMISER_GENE_PHENO_SCORE', 'EXOMISER_GENE_VARIANT_SCORE', 'WEIGHTED_PS1', 'WEIGHTED_PS2', 'WEIGHTED_PP5', 'WEIGHTED_PM5', 'WEIGHTED_PM4', 'WEIGHTED_PM2']\n",
    "\n",
    "best_params_xgboost = {'colsample_bytree': 0.8, 'gamma': 0, 'learning_rate': 0.01, 'max_depth': 5, 'min_child_weight': 1, 'n_estimators': 100, 'scale_pos_weight': 1, 'subsample': 0.8}\n",
    "\n",
    "X = ml_data.training_data.select(final_selected_features_xgboost).to_pandas().values\n",
    "y = ml_data.training_data.select([\"CAUSATIVE_VARIANT_STATUS\"]).to_pandas().values.ravel()\n",
    "\n",
    "# Define cross-validation and metrics storage\n",
    "cv = RepeatedStratifiedKFold(n_splits=10, n_repeats=10, random_state=42)\n",
    "metrics = {\"auc\": [], \"precision\": [], \"recall\": [], \"f1\": []}\n",
    "models = []\n",
    "\n",
    "# Train and evaluate models\n",
    "for fold, (train_idx, test_idx) in enumerate(cv.split(X, y), start=1):\n",
    "    X_train, X_test = X[train_idx], X[test_idx]\n",
    "    y_train, y_test = y[train_idx], y[test_idx]\n",
    "\n",
    "    model = XGBClassifier(**best_params_xgboost, random_state=fold)\n",
    "    model.fit(X_train, y_train)\n",
    "    models.append(model)\n",
    "\n",
    "    y_pred_proba = model.predict_proba(X_test)[:, 1]\n",
    "    y_pred = model.predict(X_test)\n",
    "    \n",
    "    # Collect metrics\n",
    "    metrics[\"auc\"].append(roc_auc_score(y_test, y_pred_proba))\n",
    "    metrics[\"precision\"].append(precision_score(y_test, y_pred))\n",
    "    metrics[\"recall\"].append(recall_score(y_test, y_pred))\n",
    "    metrics[\"f1\"].append(f1_score(y_test, y_pred))\n",
    "\n",
    "# Compute mean and standard deviation for each metric\n",
    "results = {metric: (np.mean(scores), np.std(scores)) for metric, scores in metrics.items()}\n",
    "\n",
    "# Print results\n",
    "print(\"\\nEvaluation Metrics (Mean ± Std):\")\n",
    "for metric, (mean, std) in results.items():\n",
    "    print(f\"{metric.capitalize()}: {mean:.4f} ± {std:.4f}\")"
   ],
   "id": "f8cc9cc25e650690",
   "outputs": [
    {
     "name": "stdout",
     "output_type": "stream",
     "text": [
      "\n",
      "Evaluation Metrics (Mean ± Std):\n",
      "Auc: 0.9987 ± 0.0018\n",
      "Precision: 0.9905 ± 0.0140\n",
      "Recall: 0.9826 ± 0.0181\n",
      "F1: 0.9864 ± 0.0116\n"
     ]
    }
   ],
   "execution_count": 10
  },
  {
   "metadata": {},
   "cell_type": "markdown",
   "source": "## This Code Will *Not* Run Due to Missing Validation Data but Serves as a Workflow Example\n",
   "id": "a1ffb9accff6272a"
  },
  {
   "metadata": {},
   "cell_type": "code",
   "outputs": [],
   "execution_count": null,
   "source": [
    "# Extract validation data\n",
    "final_selected_features_random_forest = ['EXOMISER_GENE_PHENO_SCORE', 'EXOMISER_GENE_VARIANT_SCORE', 'WEIGHTED_PS1', 'WEIGHTED_PS2', 'WEIGHTED_PM2', 'WEIGHTED_BS4', 'WEIGHTED_BP6', 'WEIGHTED_BP4']\n",
    "\n",
    "\n",
    "X_val = ml_data.testing_data.select(final_selected_features_random_forest).to_pandas().values\n",
    "y_val = ml_data.testing_data.select([\"CAUSATIVE_VARIANT_STATUS\"]).to_pandas().values.ravel()\n",
    "\n",
    "val_metrics = {\"auc\": [], \"precision\": [], \"recall\": [], \"f1\": []}\n",
    "\n",
    "# Evaluate each model on the validation data\n",
    "for model in models:\n",
    "    y_val_pred_proba = model.predict_proba(X_val)[:, 1]\n",
    "    y_val_pred = model.predict(X_val)\n",
    "    \n",
    "    # Collect metrics\n",
    "    val_metrics[\"auc\"].append(roc_auc_score(y_val, y_val_pred_proba))\n",
    "    val_metrics[\"precision\"].append(precision_score(y_val, y_val_pred))\n",
    "    val_metrics[\"recall\"].append(recall_score(y_val, y_val_pred))\n",
    "    val_metrics[\"f1\"].append(f1_score(y_val, y_val_pred))\n",
    "\n",
    "# Calculate mean and std for each metric\n",
    "val_results = {metric: (np.mean(scores), np.std(scores)) for metric, scores in val_metrics.items()}\n",
    "\n",
    "# Print results\n",
    "print(\"\\nValidation Metrics (Mean ± Std):\")\n",
    "for metric, (mean, std) in val_results.items():\n",
    "    print(f\"{metric.capitalize()}: {mean:.4f} ± {std:.4f}\")"
   ],
   "id": "ab8a91898ceeac2b"
  }
 ],
 "metadata": {
  "kernelspec": {
   "display_name": "Python 3",
   "language": "python",
   "name": "python3"
  },
  "language_info": {
   "codemirror_mode": {
    "name": "ipython",
    "version": 2
   },
   "file_extension": ".py",
   "mimetype": "text/x-python",
   "name": "python",
   "nbconvert_exporter": "python",
   "pygments_lexer": "ipython2",
   "version": "2.7.6"
  }
 },
 "nbformat": 4,
 "nbformat_minor": 5
}
