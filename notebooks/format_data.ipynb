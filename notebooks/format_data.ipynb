{
 "cells": [
  {
   "metadata": {},
   "cell_type": "markdown",
   "source": [
    "# ML Data Formatter\n",
    "\n",
    "This notebook contains a Python implementation for preprocessing tabular data stored in TSV files for machine learning purposes. It defines a structured approach to format and split the input data into training and testing datasets."
   ],
   "id": "f9bf017f70a517a1"
  },
  {
   "metadata": {
    "ExecuteTime": {
     "end_time": "2024-11-18T19:26:29.032854Z",
     "start_time": "2024-11-18T19:26:28.959014Z"
    }
   },
   "cell_type": "code",
   "source": [
    "from pathlib import Path\n",
    "from dataclasses import dataclass\n",
    "import polars as pl\n",
    "\n",
    "@dataclass\n",
    "class MLData:\n",
    "    \"\"\"\n",
    "    Class to store the training and testing dataframes for machine learning models.\n",
    "    Attributes:\n",
    "        training_data (pl.DataFrame): Training data.\n",
    "        testing_data (pl.DataFrame): Testing data.\n",
    "    \"\"\"\n",
    "    training_data: pl.DataFrame\n",
    "    testing_data: pl.DataFrame\n",
    "    \n",
    "class FormatMLData:\n",
    "    \"\"\" Class for formatting the training and testing dataframes for machine learning models.\"\"\"\n",
    "    def __init__(self, input_data_path: Path):\n",
    "        \"\"\" \n",
    "        Initialise the FormatMLData class.\n",
    "        Args:\n",
    "            input_data_path (Path): Path to the input data tsv.\n",
    "        \"\"\"\n",
    "        self.input_data_path = input_data_path\n",
    "        \n",
    "    def read_input_data(self) -> pl.DataFrame:\n",
    "        \"\"\"\n",
    "        Read the input data tsv.\n",
    "        Returns:\n",
    "            pl.DataFrame: The input data dataframe.\n",
    "        \"\"\"\n",
    "        return pl.read_csv(self.input_data_path, separator=\"\\t\", infer_schema_length=100000000)\n",
    "    \n",
    "    @staticmethod\n",
    "    def fix_max_path_null(input_data: pl.DataFrame) -> pl.DataFrame:\n",
    "        \"\"\"\n",
    "        Fix max path null values - fills the Null values with the EXOMISER_VARIANT_SCORE.\n",
    "        Args:\n",
    "            input_data (pl.DataFrame): The input data dataframe\n",
    "        Returns:\n",
    "            pl.DataFrame: The input data dataframe with Null values replaced with the EXOMISER_VARIANT_SCORE\n",
    "        \"\"\"\n",
    "        return input_data.with_columns(pl.col('MAX_PATH').fill_null(pl.col('EXOMISER_VARIANT_SCORE')))\n",
    "    \n",
    "    @staticmethod\n",
    "    def fix_max_freq_null(input_data: pl.DataFrame) -> pl.DataFrame:\n",
    "        \"\"\"\n",
    "        Fix max freq null values - fills the Null values with 0\n",
    "        Args:\n",
    "            input_data (pl.DataFrame): The input data dataframe\n",
    "        Returns:\n",
    "            pl.DataFrame: The input data dataframe with Null values replaced with 0\n",
    "        \"\"\"\n",
    "        return input_data.with_columns(pl.col(\"MAX_FREQ\").fill_null(0))\n",
    "    \n",
    "    @staticmethod\n",
    "    def retrieve_training_data(input_data: pl.DataFrame) -> pl.DataFrame:\n",
    "        \"\"\"\n",
    "        Retrieve training data.\n",
    "        Args:\n",
    "            input_data (pl.Dataframe): The input data dataframe\n",
    "        Returns:\n",
    "            pl.DataFrame: The training data dataframe\n",
    "        \"\"\"\n",
    "        training = input_data.filter(pl.col(\"TRAIN_STATUS\")==1)\n",
    "        return training\n",
    "\n",
    "    @staticmethod\n",
    "    def retrieve_test_data(input_data: pl.DataFrame) -> pl.DataFrame:\n",
    "        \"\"\"\n",
    "        Retrieve testing data.\n",
    "        Args:\n",
    "            input_data (pl.Dataframe): The input data dataframe\n",
    "        Returns:\n",
    "            pl.DataFrame: The testing data dataframe\n",
    "        \"\"\"\n",
    "        return input_data.filter(pl.col(\"TRAIN_STATUS\")==0)\n",
    "    \n",
    "    def return_ml_data(self) -> MLData:\n",
    "        \"\"\"\n",
    "        Retrieve the formatted training and testing data, with Null values replaced.\n",
    "        Returns:\n",
    "            MLData: The formatted training and testing data\n",
    "        \"\"\"\n",
    "        input_data = self.read_input_data()\n",
    "        input_data = self.fix_max_path_null(input_data)\n",
    "        input_data = self.fix_max_freq_null(input_data)\n",
    "        return MLData(training_data=self.retrieve_training_data(input_data), testing_data=self.retrieve_test_data(input_data))"
   ],
   "id": "1e62de1306f0debb",
   "outputs": [],
   "execution_count": 1
  },
  {
   "metadata": {
    "ExecuteTime": {
     "end_time": "2024-11-18T19:26:32.186631Z",
     "start_time": "2024-11-18T19:26:32.151737Z"
    }
   },
   "cell_type": "code",
   "source": [
    "# Usage\n",
    "input_data = '../data/ml_data_subset.tsv'\n",
    "ml_data = FormatMLData(input_data).return_ml_data()\n",
    "ml_data"
   ],
   "id": "3132ad7171829d92",
   "outputs": [
    {
     "data": {
      "text/plain": [
       "MLData(training_data=shape: (1_159, 144)\n",
       "┌───────┬────────────┬────────────┬────────────┬───┬───────────┬───────────┬───────────┬───────────┐\n",
       "│ #RANK ┆ ID         ┆ GENE_SYMBO ┆ ENTREZ_GEN ┆ … ┆ WEIGHTED_ ┆ WEIGHTED_ ┆ WEIGHTED_ ┆ WEIGHTED_ │\n",
       "│ ---   ┆ ---        ┆ L          ┆ E_ID       ┆   ┆ BS4       ┆ BP6       ┆ BP4       ┆ BA1       │\n",
       "│ i64   ┆ str        ┆ ---        ┆ ---        ┆   ┆ ---       ┆ ---       ┆ ---       ┆ ---       │\n",
       "│       ┆            ┆ str        ┆ f64        ┆   ┆ i64       ┆ i64       ┆ i64       ┆ i64       │\n",
       "╞═══════╪════════════╪════════════╪════════════╪═══╪═══════════╪═══════════╪═══════════╪═══════════╡\n",
       "│ 1     ┆ 9-13941749 ┆ NOTCH1     ┆ 4851.0     ┆ … ┆ 0         ┆ 0         ┆ 0         ┆ 0         │\n",
       "│       ┆ 4-G-A_AD   ┆            ┆            ┆   ┆           ┆           ┆           ┆           │\n",
       "│ 1     ┆ 9-13940130 ┆ NOTCH1     ┆ 4851.0     ┆ … ┆ 0         ┆ 0         ┆ 0         ┆ 0         │\n",
       "│       ┆ 4-G-T_AD   ┆            ┆            ┆   ┆           ┆           ┆           ┆           │\n",
       "│ 1     ┆ 9-13939998 ┆ NOTCH1     ┆ 4851.0     ┆ … ┆ 0         ┆ 0         ┆ 0         ┆ 0         │\n",
       "│       ┆ 5-G-A_AD   ┆            ┆            ┆   ┆           ┆           ┆           ┆           │\n",
       "│ 1     ┆ 9-13940431 ┆ NOTCH1     ┆ 4851.0     ┆ … ┆ 0         ┆ 0         ┆ 0         ┆ 0         │\n",
       "│       ┆ 2-C-A_AD   ┆            ┆            ┆   ┆           ┆           ┆           ┆           │\n",
       "│ 1     ┆ 9-13940749 ┆ NOTCH1     ┆ 4851.0     ┆ … ┆ 0         ┆ 0         ┆ 0         ┆ 0         │\n",
       "│       ┆ 1-A-AG_AD  ┆            ┆            ┆   ┆           ┆           ┆           ┆           │\n",
       "│ …     ┆ …          ┆ …          ┆ …          ┆ … ┆ …         ┆ …         ┆ …         ┆ …         │\n",
       "│ 1     ┆ 13-8445464 ┆ SLITRK1    ┆ 114798.0   ┆ … ┆ 0         ┆ 0         ┆ -2        ┆ 0         │\n",
       "│       ┆ 4-T-G_AD   ┆            ┆            ┆   ┆           ┆           ┆           ┆           │\n",
       "│ 1     ┆ 3-49215932 ┆ C3orf84    ┆ 646498.0   ┆ … ┆ 0         ┆ 0         ┆ 0         ┆ 0         │\n",
       "│       ┆ -G-A_AR    ┆            ┆            ┆   ┆           ┆           ┆           ┆           │\n",
       "│ 1     ┆ 12-6921844 ┆ MDM2       ┆ 4193.0     ┆ … ┆ 0         ┆ 0         ┆ 0         ┆ 0         │\n",
       "│       ┆ 4-AT-A_ANY ┆            ┆            ┆   ┆           ┆           ┆           ┆           │\n",
       "│ 1     ┆ 2-9582130- ┆ CPSF3      ┆ 51692.0    ┆ … ┆ 0         ┆ 0         ┆ 0         ┆ 0         │\n",
       "│       ┆ T-A_ANY    ┆            ┆            ┆   ┆           ┆           ┆           ┆           │\n",
       "│ 1     ┆ 2-9570191- ┆ CPSF3      ┆ 51692.0    ┆ … ┆ 0         ┆ 0         ┆ 0         ┆ 0         │\n",
       "│       ┆ T-C_ANY    ┆            ┆            ┆   ┆           ┆           ┆           ┆           │\n",
       "└───────┴────────────┴────────────┴────────────┴───┴───────────┴───────────┴───────────┴───────────┘, testing_data=shape: (0, 144)\n",
       "┌───────┬─────┬─────────────┬─────────────┬───┬─────────────┬────────────┬────────────┬────────────┐\n",
       "│ #RANK ┆ ID  ┆ GENE_SYMBOL ┆ ENTREZ_GENE ┆ … ┆ WEIGHTED_BS ┆ WEIGHTED_B ┆ WEIGHTED_B ┆ WEIGHTED_B │\n",
       "│ ---   ┆ --- ┆ ---         ┆ _ID         ┆   ┆ 4           ┆ P6         ┆ P4         ┆ A1         │\n",
       "│ i64   ┆ str ┆ str         ┆ ---         ┆   ┆ ---         ┆ ---        ┆ ---        ┆ ---        │\n",
       "│       ┆     ┆             ┆ f64         ┆   ┆ i64         ┆ i64        ┆ i64        ┆ i64        │\n",
       "╞═══════╪═════╪═════════════╪═════════════╪═══╪═════════════╪════════════╪════════════╪════════════╡\n",
       "└───────┴─────┴─────────────┴─────────────┴───┴─────────────┴────────────┴────────────┴────────────┘)"
      ]
     },
     "execution_count": 2,
     "metadata": {},
     "output_type": "execute_result"
    }
   ],
   "execution_count": 2
  },
  {
   "metadata": {
    "ExecuteTime": {
     "end_time": "2024-11-18T19:26:37.383152Z",
     "start_time": "2024-11-18T19:26:37.376004Z"
    }
   },
   "cell_type": "code",
   "source": "ml_data.training_data.head()",
   "id": "a342d2c013257e79",
   "outputs": [
    {
     "data": {
      "text/plain": [
       "shape: (5, 144)\n",
       "┌───────┬────────────┬────────────┬────────────┬───┬───────────┬───────────┬───────────┬───────────┐\n",
       "│ #RANK ┆ ID         ┆ GENE_SYMBO ┆ ENTREZ_GEN ┆ … ┆ WEIGHTED_ ┆ WEIGHTED_ ┆ WEIGHTED_ ┆ WEIGHTED_ │\n",
       "│ ---   ┆ ---        ┆ L          ┆ E_ID       ┆   ┆ BS4       ┆ BP6       ┆ BP4       ┆ BA1       │\n",
       "│ i64   ┆ str        ┆ ---        ┆ ---        ┆   ┆ ---       ┆ ---       ┆ ---       ┆ ---       │\n",
       "│       ┆            ┆ str        ┆ f64        ┆   ┆ i64       ┆ i64       ┆ i64       ┆ i64       │\n",
       "╞═══════╪════════════╪════════════╪════════════╪═══╪═══════════╪═══════════╪═══════════╪═══════════╡\n",
       "│ 1     ┆ 9-13941749 ┆ NOTCH1     ┆ 4851.0     ┆ … ┆ 0         ┆ 0         ┆ 0         ┆ 0         │\n",
       "│       ┆ 4-G-A_AD   ┆            ┆            ┆   ┆           ┆           ┆           ┆           │\n",
       "│ 1     ┆ 9-13940130 ┆ NOTCH1     ┆ 4851.0     ┆ … ┆ 0         ┆ 0         ┆ 0         ┆ 0         │\n",
       "│       ┆ 4-G-T_AD   ┆            ┆            ┆   ┆           ┆           ┆           ┆           │\n",
       "│ 1     ┆ 9-13939998 ┆ NOTCH1     ┆ 4851.0     ┆ … ┆ 0         ┆ 0         ┆ 0         ┆ 0         │\n",
       "│       ┆ 5-G-A_AD   ┆            ┆            ┆   ┆           ┆           ┆           ┆           │\n",
       "│ 1     ┆ 9-13940431 ┆ NOTCH1     ┆ 4851.0     ┆ … ┆ 0         ┆ 0         ┆ 0         ┆ 0         │\n",
       "│       ┆ 2-C-A_AD   ┆            ┆            ┆   ┆           ┆           ┆           ┆           │\n",
       "│ 1     ┆ 9-13940749 ┆ NOTCH1     ┆ 4851.0     ┆ … ┆ 0         ┆ 0         ┆ 0         ┆ 0         │\n",
       "│       ┆ 1-A-AG_AD  ┆            ┆            ┆   ┆           ┆           ┆           ┆           │\n",
       "└───────┴────────────┴────────────┴────────────┴───┴───────────┴───────────┴───────────┴───────────┘"
      ],
      "text/html": [
       "<div><style>\n",
       ".dataframe > thead > tr,\n",
       ".dataframe > tbody > tr {\n",
       "  text-align: right;\n",
       "  white-space: pre-wrap;\n",
       "}\n",
       "</style>\n",
       "<small>shape: (5, 144)</small><table border=\"1\" class=\"dataframe\"><thead><tr><th>#RANK</th><th>ID</th><th>GENE_SYMBOL</th><th>ENTREZ_GENE_ID</th><th>MOI</th><th>P-VALUE</th><th>EXOMISER_GENE_COMBINED_SCORE</th><th>EXOMISER_GENE_PHENO_SCORE</th><th>EXOMISER_GENE_VARIANT_SCORE</th><th>EXOMISER_VARIANT_SCORE</th><th>CONTRIBUTING_VARIANT</th><th>WHITELIST_VARIANT</th><th>VCF_ID</th><th>RS_ID</th><th>CONTIG</th><th>START</th><th>END</th><th>REF</th><th>ALT</th><th>CHANGE_LENGTH</th><th>QUAL</th><th>FILTER</th><th>GENOTYPE</th><th>FUNCTIONAL_CLASS</th><th>HGVS</th><th>EXOMISER_ACMG_CLASSIFICATION</th><th>EXOMISER_ACMG_EVIDENCE</th><th>EXOMISER_ACMG_DISEASE_ID</th><th>EXOMISER_ACMG_DISEASE_NAME</th><th>CLINVAR_VARIATION_ID</th><th>CLINVAR_PRIMARY_INTERPRETATION</th><th>CLINVAR_STAR_RATING</th><th>GENE_CONSTRAINT_LOEUF</th><th>GENE_CONSTRAINT_LOEUF_LOWER</th><th>GENE_CONSTRAINT_LOEUF_UPPER</th><th>MAX_FREQ_SOURCE</th><th>MAX_FREQ</th><th>&hellip;</th><th>EXOMISER_ACMG_EVIDENCE_PP3_Strong</th><th>EXOMISER_ACMG_EVIDENCE_PP4</th><th>EXOMISER_ACMG_EVIDENCE_PP5</th><th>EXOMISER_ACMG_EVIDENCE_PP5_Strong</th><th>EXOMISER_ACMG_EVIDENCE_PP5_VeryStrong</th><th>EXOMISER_ACMG_EVIDENCE_PS1</th><th>EXOMISER_ACMG_EVIDENCE_PS1_Moderate</th><th>EXOMISER_ACMG_EVIDENCE_PS1_Supporting</th><th>EXOMISER_ACMG_EVIDENCE_PS2</th><th>EXOMISER_ACMG_EVIDENCE_PVS1</th><th>EXOMISER_ACMG_EVIDENCE_PVS1_Strong</th><th>ACMG_EVIDENCE_SCORE</th><th>TALLY_P_SUPPORTING</th><th>TALLY_P_MODERATE</th><th>TALLY_P_STRONG</th><th>TALLY_P_VERY_STRONG</th><th>TALLY_B_SUPPORTING</th><th>TALLY_B_MODERATE</th><th>TALLY_B_STRONG</th><th>TALLY_B_VERY_STRONG</th><th>TALLY_BA1</th><th>ACMG_PPP</th><th>ACMG_PPP_MEAN</th><th>WEIGHTED_PVS1</th><th>WEIGHTED_PS1</th><th>WEIGHTED_PS2</th><th>WEIGHTED_PP5</th><th>WEIGHTED_PP4</th><th>WEIGHTED_PP3</th><th>WEIGHTED_PM5</th><th>WEIGHTED_PM4</th><th>WEIGHTED_PM2</th><th>WEIGHTED_PM1</th><th>WEIGHTED_BS4</th><th>WEIGHTED_BP6</th><th>WEIGHTED_BP4</th><th>WEIGHTED_BA1</th></tr><tr><td>i64</td><td>str</td><td>str</td><td>f64</td><td>str</td><td>f64</td><td>f64</td><td>f64</td><td>f64</td><td>f64</td><td>i64</td><td>i64</td><td>str</td><td>str</td><td>i64</td><td>i64</td><td>i64</td><td>str</td><td>str</td><td>i64</td><td>f64</td><td>str</td><td>str</td><td>str</td><td>str</td><td>str</td><td>str</td><td>str</td><td>str</td><td>f64</td><td>str</td><td>i64</td><td>f64</td><td>f64</td><td>f64</td><td>str</td><td>f64</td><td>&hellip;</td><td>i64</td><td>i64</td><td>i64</td><td>i64</td><td>i64</td><td>i64</td><td>i64</td><td>i64</td><td>i64</td><td>i64</td><td>i64</td><td>f64</td><td>i64</td><td>i64</td><td>i64</td><td>i64</td><td>i64</td><td>i64</td><td>i64</td><td>i64</td><td>i64</td><td>f64</td><td>f64</td><td>i64</td><td>i64</td><td>i64</td><td>i64</td><td>i64</td><td>i64</td><td>i64</td><td>i64</td><td>i64</td><td>i64</td><td>i64</td><td>i64</td><td>i64</td><td>i64</td></tr></thead><tbody><tr><td>1</td><td>&quot;9-139417494-G-A_AD&quot;</td><td>&quot;NOTCH1&quot;</td><td>4851.0</td><td>&quot;AD&quot;</td><td>0.0</td><td>0.9972</td><td>0.9604</td><td>1.0</td><td>1.0</td><td>1</td><td>1</td><td>null</td><td>&quot;rs1589072024&quot;</td><td>9</td><td>139417494</td><td>139417494</td><td>&quot;G&quot;</td><td>&quot;A&quot;</td><td>0</td><td>100.0</td><td>&quot;PASS&quot;</td><td>&quot;0/1&quot;</td><td>&quot;stop_gained&quot;</td><td>&quot;NOTCH1:ENST00000277541.6:c.550…</td><td>&quot;PATHOGENIC&quot;</td><td>&quot;PVS1,PM2_Supporting,PP4,PP5&quot;</td><td>&quot;OMIM:616028&quot;</td><td>&quot;Adams-Oliver&nbsp;syndrome&nbsp;5&quot;</td><td>645087.0</td><td>&quot;PATHOGENIC&quot;</td><td>1</td><td>0.16418</td><td>0.125</td><td>0.217</td><td>null</td><td>0.0</td><td>&hellip;</td><td>0</td><td>1</td><td>1</td><td>0</td><td>0</td><td>0</td><td>0</td><td>0</td><td>0</td><td>1</td><td>0</td><td>11.0</td><td>3</td><td>0</td><td>0</td><td>1</td><td>0</td><td>0</td><td>0</td><td>0</td><td>0</td><td>0.997</td><td>0.997</td><td>8</td><td>0</td><td>0</td><td>1</td><td>1</td><td>0</td><td>0</td><td>0</td><td>1</td><td>0</td><td>0</td><td>0</td><td>0</td><td>0</td></tr><tr><td>1</td><td>&quot;9-139401304-G-T_AD&quot;</td><td>&quot;NOTCH1&quot;</td><td>4851.0</td><td>&quot;AD&quot;</td><td>0.0</td><td>0.9956</td><td>0.9155</td><td>1.0</td><td>1.0</td><td>1</td><td>0</td><td>null</td><td>&quot;rs1057515423&quot;</td><td>9</td><td>139401304</td><td>139401304</td><td>&quot;G&quot;</td><td>&quot;T&quot;</td><td>0</td><td>100.0</td><td>&quot;PASS&quot;</td><td>&quot;0/1&quot;</td><td>&quot;stop_gained&quot;</td><td>&quot;NOTCH1:ENST00000277541.6:c.376…</td><td>&quot;PATHOGENIC&quot;</td><td>&quot;PVS1,PM2_Supporting,PP4&quot;</td><td>&quot;OMIM:109730&quot;</td><td>&quot;Aortic&nbsp;valve&nbsp;disease&nbsp;1&quot;</td><td>221997.0</td><td>&quot;PATHOGENIC&quot;</td><td>0</td><td>0.16418</td><td>0.125</td><td>0.217</td><td>null</td><td>0.0</td><td>&hellip;</td><td>0</td><td>1</td><td>0</td><td>0</td><td>0</td><td>0</td><td>0</td><td>0</td><td>0</td><td>1</td><td>0</td><td>10.0</td><td>2</td><td>0</td><td>0</td><td>1</td><td>0</td><td>0</td><td>0</td><td>0</td><td>0</td><td>0.994</td><td>0.994</td><td>8</td><td>0</td><td>0</td><td>0</td><td>1</td><td>0</td><td>0</td><td>0</td><td>1</td><td>0</td><td>0</td><td>0</td><td>0</td><td>0</td></tr><tr><td>1</td><td>&quot;9-139399985-G-A_AD&quot;</td><td>&quot;NOTCH1&quot;</td><td>4851.0</td><td>&quot;AD&quot;</td><td>0.0</td><td>0.9905</td><td>0.8415</td><td>1.0</td><td>1.0</td><td>1</td><td>1</td><td>null</td><td>&quot;rs2133339552&quot;</td><td>9</td><td>139399985</td><td>139399985</td><td>&quot;G&quot;</td><td>&quot;A&quot;</td><td>0</td><td>100.0</td><td>&quot;PASS&quot;</td><td>&quot;0/1&quot;</td><td>&quot;stop_gained&quot;</td><td>&quot;NOTCH1:ENST00000277541.6:c.436…</td><td>&quot;PATHOGENIC&quot;</td><td>&quot;PVS1,PM2_Supporting,PP4,PP5&quot;</td><td>&quot;OMIM:616028&quot;</td><td>&quot;Adams-Oliver&nbsp;syndrome&nbsp;5&quot;</td><td>1.072334e6</td><td>&quot;PATHOGENIC&quot;</td><td>1</td><td>0.16418</td><td>0.125</td><td>0.217</td><td>null</td><td>0.0</td><td>&hellip;</td><td>0</td><td>1</td><td>1</td><td>0</td><td>0</td><td>0</td><td>0</td><td>0</td><td>0</td><td>1</td><td>0</td><td>11.0</td><td>3</td><td>0</td><td>0</td><td>1</td><td>0</td><td>0</td><td>0</td><td>0</td><td>0</td><td>0.997</td><td>0.997</td><td>8</td><td>0</td><td>0</td><td>1</td><td>1</td><td>0</td><td>0</td><td>0</td><td>1</td><td>0</td><td>0</td><td>0</td><td>0</td><td>0</td></tr><tr><td>1</td><td>&quot;9-139404312-C-A_AD&quot;</td><td>&quot;NOTCH1&quot;</td><td>4851.0</td><td>&quot;AD&quot;</td><td>0.0</td><td>0.9938</td><td>0.8833</td><td>1.0</td><td>1.0</td><td>1</td><td>0</td><td>null</td><td>null</td><td>9</td><td>139404312</td><td>139404312</td><td>&quot;C&quot;</td><td>&quot;A&quot;</td><td>0</td><td>100.0</td><td>&quot;PASS&quot;</td><td>&quot;0/1&quot;</td><td>&quot;stop_gained&quot;</td><td>&quot;NOTCH1:ENST00000277541.6:c.284…</td><td>&quot;PATHOGENIC&quot;</td><td>&quot;PVS1,PM2_Supporting,PP4&quot;</td><td>&quot;OMIM:616028&quot;</td><td>&quot;Adams-Oliver&nbsp;syndrome&nbsp;5&quot;</td><td>2.503443e6</td><td>&quot;LIKELY_PATHOGENIC&quot;</td><td>0</td><td>0.16418</td><td>0.125</td><td>0.217</td><td>null</td><td>0.0</td><td>&hellip;</td><td>0</td><td>1</td><td>0</td><td>0</td><td>0</td><td>0</td><td>0</td><td>0</td><td>0</td><td>1</td><td>0</td><td>10.0</td><td>2</td><td>0</td><td>0</td><td>1</td><td>0</td><td>0</td><td>0</td><td>0</td><td>0</td><td>0.994</td><td>0.994</td><td>8</td><td>0</td><td>0</td><td>0</td><td>1</td><td>0</td><td>0</td><td>0</td><td>1</td><td>0</td><td>0</td><td>0</td><td>0</td><td>0</td></tr><tr><td>1</td><td>&quot;9-139407491-A-AG_AD&quot;</td><td>&quot;NOTCH1&quot;</td><td>4851.0</td><td>&quot;AD&quot;</td><td>0.0</td><td>0.9899</td><td>0.8359</td><td>1.0</td><td>1.0</td><td>1</td><td>1</td><td>null</td><td>null</td><td>9</td><td>139407491</td><td>139407491</td><td>&quot;A&quot;</td><td>&quot;AG&quot;</td><td>1</td><td>100.0</td><td>&quot;PASS&quot;</td><td>&quot;0/1&quot;</td><td>&quot;frameshift_variant&quot;</td><td>&quot;NOTCH1:ENST00000277541.6:c.244…</td><td>&quot;PATHOGENIC&quot;</td><td>&quot;PVS1,PM2_Supporting,PP4,PP5_St…</td><td>&quot;OMIM:616028&quot;</td><td>&quot;Adams-Oliver&nbsp;syndrome&nbsp;5&quot;</td><td>817997.0</td><td>&quot;PATHOGENIC&quot;</td><td>2</td><td>0.16418</td><td>0.125</td><td>0.217</td><td>null</td><td>0.0</td><td>&hellip;</td><td>0</td><td>1</td><td>0</td><td>1</td><td>0</td><td>0</td><td>0</td><td>0</td><td>0</td><td>1</td><td>0</td><td>14.0</td><td>2</td><td>0</td><td>1</td><td>1</td><td>0</td><td>0</td><td>0</td><td>0</td><td>0</td><td>1.0</td><td>1.0</td><td>8</td><td>0</td><td>0</td><td>4</td><td>1</td><td>0</td><td>0</td><td>0</td><td>1</td><td>0</td><td>0</td><td>0</td><td>0</td><td>0</td></tr></tbody></table></div>"
      ]
     },
     "execution_count": 3,
     "metadata": {},
     "output_type": "execute_result"
    }
   ],
   "execution_count": 3
  }
 ],
 "metadata": {
  "kernelspec": {
   "display_name": "Python 3",
   "language": "python",
   "name": "python3"
  },
  "language_info": {
   "codemirror_mode": {
    "name": "ipython",
    "version": 2
   },
   "file_extension": ".py",
   "mimetype": "text/x-python",
   "name": "python",
   "nbconvert_exporter": "python",
   "pygments_lexer": "ipython2",
   "version": "2.7.6"
  }
 },
 "nbformat": 4,
 "nbformat_minor": 5
}
