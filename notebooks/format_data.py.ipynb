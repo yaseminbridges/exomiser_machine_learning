{
 "cells": [
  {
   "metadata": {},
   "cell_type": "markdown",
   "source": [
    "# ML Data Formatter\n",
    "\n",
    "This notebook contains a Python implementation for preprocessing tabular data stored in TSV files for machine learning purposes. It defines a structured approach to format and split the input data into training and testing datasets."
   ],
   "id": "f9bf017f70a517a1"
  },
  {
   "metadata": {
    "ExecuteTime": {
     "end_time": "2024-11-18T14:11:08.849094Z",
     "start_time": "2024-11-18T14:11:08.594297Z"
    }
   },
   "cell_type": "code",
   "source": [
    "from pathlib import Path\n",
    "from dataclasses import dataclass\n",
    "import polars as pl\n",
    "\n",
    "@dataclass\n",
    "class MLData:\n",
    "    \"\"\"\n",
    "    Class to store the training and testing dataframes for machine learning models.\n",
    "    Attributes:\n",
    "        training_data (pl.DataFrame): Training data.\n",
    "        testing_data (pl.DataFrame): Testing data.\n",
    "    \"\"\"\n",
    "    training_data: pl.DataFrame\n",
    "    testing_data: pl.DataFrame\n",
    "    \n",
    "class FormatMLData:\n",
    "    \"\"\" Class for formatting the training and testing dataframes for machine learning models.\"\"\"\n",
    "    def __init__(self, input_data_path: Path):\n",
    "        \"\"\" \n",
    "        Initialise the FormatMLData class.\n",
    "        Args:\n",
    "            input_data_path (Path): Path to the input data tsv.\n",
    "        \"\"\"\n",
    "        self.input_data_path = input_data_path\n",
    "        \n",
    "    def read_input_data(self) -> pl.DataFrame:\n",
    "        \"\"\"\n",
    "        Read the input data tsv.\n",
    "        Returns:\n",
    "            pl.DataFrame: The input data dataframe.\n",
    "        \"\"\"\n",
    "        return pl.read_csv(self.input_data_path, separator=\"\\t\", infer_schema_length=100000000)\n",
    "    \n",
    "    @staticmethod\n",
    "    def fix_max_path_null(input_data: pl.DataFrame) -> pl.DataFrame:\n",
    "        \"\"\"\n",
    "        Fix max path null values - fills the Null values with the EXOMISER_VARIANT_SCORE.\n",
    "        Args:\n",
    "            input_data (pl.DataFrame): The input data dataframe\n",
    "        Returns:\n",
    "            pl.DataFrame: The input data dataframe with Null values replaced with the EXOMISER_VARIANT_SCORE\n",
    "        \"\"\"\n",
    "        return input_data.with_columns(pl.col('MAX_PATH').fill_null(pl.col('EXOMISER_VARIANT_SCORE')))\n",
    "    \n",
    "    @staticmethod\n",
    "    def fix_max_freq_null(input_data: pl.DataFrame) -> pl.DataFrame:\n",
    "        \"\"\"\n",
    "        Fix max freq null values - fills the Null values with 0\n",
    "        Args:\n",
    "            input_data (pl.DataFrame): The input data dataframe\n",
    "        Returns:\n",
    "            pl.DataFrame: The input data dataframe with Null values replaced with 0\n",
    "        \"\"\"\n",
    "        return input_data.with_columns(pl.col(\"MAX_FREQ\").fill_null(0))\n",
    "    \n",
    "    @staticmethod\n",
    "    def retrieve_training_data(input_data: pl.DataFrame) -> pl.DataFrame:\n",
    "        \"\"\"\n",
    "        Retrieve training data.\n",
    "        Args:\n",
    "            input_data (pl.Dataframe): The input data dataframe\n",
    "        Returns:\n",
    "            pl.DataFrame: The training data dataframe\n",
    "        \"\"\"\n",
    "        training = input_data.filter(pl.col(\"TRAIN_STATUS\")==1)\n",
    "        return training\n",
    "\n",
    "    @staticmethod\n",
    "    def retrieve_test_data(input_data: pl.DataFrame) -> pl.DataFrame:\n",
    "        \"\"\"\n",
    "        Retrieve testing data.\n",
    "        Args:\n",
    "            input_data (pl.Dataframe): The input data dataframe\n",
    "        Returns:\n",
    "            pl.DataFrame: The testing data dataframe\n",
    "        \"\"\"\n",
    "        return input_data.filter(pl.col(\"TRAIN_STATUS\")==0)\n",
    "    \n",
    "    def return_ml_data(self) -> MLData:\n",
    "        \"\"\"\n",
    "        Retrieve the formatted training and testing data, with Null values replaced.\n",
    "        Returns:\n",
    "            MLData: The formatted training and testing data\n",
    "        \"\"\"\n",
    "        input_data = self.read_input_data()\n",
    "        input_data = self.fix_max_path_null(input_data)\n",
    "        input_data = self.fix_max_freq_null(input_data)\n",
    "        return MLData(training_data=self.retrieve_training_data(input_data), testing_data=self.retrieve_test_data(input_data))"
   ],
   "id": "1e62de1306f0debb",
   "outputs": [],
   "execution_count": 1
  },
  {
   "metadata": {
    "ExecuteTime": {
     "end_time": "2024-11-18T18:45:39.458018Z",
     "start_time": "2024-11-18T18:45:39.383360Z"
    }
   },
   "cell_type": "code",
   "source": [
    "# Usage\n",
    "input_data = '../data/ml_data_subset.tsv'\n",
    "ml_data = FormatMLData(input_data).return_ml_data()\n",
    "ml_data.training_data.head()"
   ],
   "id": "3132ad7171829d92",
   "outputs": [
    {
     "data": {
      "text/plain": [
       "MLData(training_data=shape: (2_734, 144)\n",
       "┌───────┬────────────┬────────────┬────────────┬───┬───────────┬───────────┬───────────┬───────────┐\n",
       "│ #RANK ┆ ID         ┆ GENE_SYMBO ┆ ENTREZ_GEN ┆ … ┆ WEIGHTED_ ┆ WEIGHTED_ ┆ WEIGHTED_ ┆ WEIGHTED_ │\n",
       "│ ---   ┆ ---        ┆ L          ┆ E_ID       ┆   ┆ BS4       ┆ BP6       ┆ BP4       ┆ BA1       │\n",
       "│ i64   ┆ str        ┆ ---        ┆ ---        ┆   ┆ ---       ┆ ---       ┆ ---       ┆ ---       │\n",
       "│       ┆            ┆ str        ┆ f64        ┆   ┆ i64       ┆ i64       ┆ i64       ┆ i64       │\n",
       "╞═══════╪════════════╪════════════╪════════════╪═══╪═══════════╪═══════════╪═══════════╪═══════════╡\n",
       "│ 1     ┆ 15-9130346 ┆ BLM        ┆ 641.0      ┆ … ┆ 0         ┆ 0         ┆ 0         ┆ 0         │\n",
       "│       ┆ 2-G-GA_AR  ┆            ┆            ┆   ┆           ┆           ┆           ┆           │\n",
       "│ 1     ┆ 15-9134695 ┆ BLM        ┆ 641.0      ┆ … ┆ 0         ┆ 0         ┆ 0         ┆ 0         │\n",
       "│       ┆ 1-G-A_AR   ┆            ┆            ┆   ┆           ┆           ┆           ┆           │\n",
       "│ 1     ┆ 15-9132820 ┆ BLM        ┆ 641.0      ┆ … ┆ 0         ┆ 0         ┆ 0         ┆ 0         │\n",
       "│       ┆ 4-GACACGTT ┆            ┆            ┆   ┆           ┆           ┆           ┆           │\n",
       "│       ┆ -G_AR      ┆            ┆            ┆   ┆           ┆           ┆           ┆           │\n",
       "│ 1     ┆ 15-9129267 ┆ BLM        ┆ 641.0      ┆ … ┆ 0         ┆ 0         ┆ 0         ┆ 0         │\n",
       "│       ┆ 1-CTG-C_AR ┆            ┆            ┆   ┆           ┆           ┆           ┆           │\n",
       "│ 1     ┆ 15-9130384 ┆ BLM        ┆ 641.0      ┆ … ┆ 0         ┆ 0         ┆ 0         ┆ 0         │\n",
       "│       ┆ 0-G-T_AR   ┆            ┆            ┆   ┆           ┆           ┆           ┆           │\n",
       "│ …     ┆ …          ┆ …          ┆ …          ┆ … ┆ …         ┆ …         ┆ …         ┆ …         │\n",
       "│ 1     ┆ 12-6921844 ┆ MDM2       ┆ 4193.0     ┆ … ┆ 0         ┆ 0         ┆ 0         ┆ 0         │\n",
       "│       ┆ 4-AT-A_ANY ┆            ┆            ┆   ┆           ┆           ┆           ┆           │\n",
       "│ 1     ┆ 10-3062909 ┆ MTPAP      ┆ 55149.0    ┆ … ┆ 0         ┆ 0         ┆ 0         ┆ 0         │\n",
       "│       ┆ 7-T-G_ANY  ┆            ┆            ┆   ┆           ┆           ┆           ┆           │\n",
       "│ 1     ┆ 2-9582130- ┆ CPSF3      ┆ 51692.0    ┆ … ┆ 0         ┆ 0         ┆ 0         ┆ 0         │\n",
       "│       ┆ T-A_ANY    ┆            ┆            ┆   ┆           ┆           ┆           ┆           │\n",
       "│ 1     ┆ 2-9570191- ┆ CPSF3      ┆ 51692.0    ┆ … ┆ 0         ┆ 0         ┆ 0         ┆ 0         │\n",
       "│       ┆ T-C_ANY    ┆            ┆            ┆   ┆           ┆           ┆           ┆           │\n",
       "│ 1     ┆ 15-7492139 ┆ CLK3       ┆ 1198.0     ┆ … ┆ 0         ┆ 0         ┆ 0         ┆ 0         │\n",
       "│       ┆ 2-C-G_ANY  ┆            ┆            ┆   ┆           ┆           ┆           ┆           │\n",
       "└───────┴────────────┴────────────┴────────────┴───┴───────────┴───────────┴───────────┴───────────┘, testing_data=shape: (0, 144)\n",
       "┌───────┬─────┬─────────────┬─────────────┬───┬─────────────┬────────────┬────────────┬────────────┐\n",
       "│ #RANK ┆ ID  ┆ GENE_SYMBOL ┆ ENTREZ_GENE ┆ … ┆ WEIGHTED_BS ┆ WEIGHTED_B ┆ WEIGHTED_B ┆ WEIGHTED_B │\n",
       "│ ---   ┆ --- ┆ ---         ┆ _ID         ┆   ┆ 4           ┆ P6         ┆ P4         ┆ A1         │\n",
       "│ i64   ┆ str ┆ str         ┆ ---         ┆   ┆ ---         ┆ ---        ┆ ---        ┆ ---        │\n",
       "│       ┆     ┆             ┆ f64         ┆   ┆ i64         ┆ i64        ┆ i64        ┆ i64        │\n",
       "╞═══════╪═════╪═════════════╪═════════════╪═══╪═════════════╪════════════╪════════════╪════════════╡\n",
       "└───────┴─────┴─────────────┴─────────────┴───┴─────────────┴────────────┴────────────┴────────────┘)"
      ]
     },
     "execution_count": 7,
     "metadata": {},
     "output_type": "execute_result"
    }
   ],
   "execution_count": 7
  }
 ],
 "metadata": {
  "kernelspec": {
   "display_name": "Python 3",
   "language": "python",
   "name": "python3"
  },
  "language_info": {
   "codemirror_mode": {
    "name": "ipython",
    "version": 2
   },
   "file_extension": ".py",
   "mimetype": "text/x-python",
   "name": "python",
   "nbconvert_exporter": "python",
   "pygments_lexer": "ipython2",
   "version": "2.7.6"
  }
 },
 "nbformat": 4,
 "nbformat_minor": 5
}
